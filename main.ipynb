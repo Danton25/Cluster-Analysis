{
  "nbformat": 4,
  "nbformat_minor": 0,
  "metadata": {
    "colab": {
      "name": "main.ipynb",
      "provenance": [],
      "collapsed_sections": []
    },
    "kernelspec": {
      "name": "python3",
      "display_name": "Python 3"
    },
    "accelerator": "GPU"
  },
  "cells": [
    {
      "cell_type": "code",
      "metadata": {
        "colab_type": "code",
        "outputId": "34698517-cf24-4f17-9605-533124fc8e1f",
        "id": "zx9W-5a_qN8U",
        "colab": {
          "base_uri": "https://localhost:8080/",
          "height": 233
        }
      },
      "source": [
        "from keras.datasets import fashion_mnist\n",
        "import numpy as np\n",
        "import pandas as pd\n",
        "from matplotlib import pyplot as plt\n",
        "from sklearn.cluster import KMeans\n",
        "from matplotlib import pyplot as plt\n",
        "from sklearn import metrics\n",
        "from keras.layers import Input, Dense\n",
        "from sklearn.metrics import confusion_matrix\n",
        "from keras.models import Model, Sequential\n",
        "from sklearn.mixture import GaussianMixture\n",
        "\n",
        "(xtrain, ytrain), (xtest,ytest) = fashion_mnist.load_data()\n",
        "\n",
        "x = xtrain\n",
        "y = ytrain\n",
        "x = x.astype(np.float32)\n",
        "xtest = xtest.astype(np.float32)\n",
        "ytest = ytest.astype(np.float32)\n",
        "x = x.reshape((x.shape[0], -1))\n",
        "xtest = xtest.reshape((xtest.shape[0], -1))\n",
        "x = np.divide(x, 255.)\n",
        "xtest = np.divide(xtest, 255.)\n",
        "print(x.shape)\n",
        "clusters = KMeans(n_clusters = 10, n_init=20, n_jobs=4)"
      ],
      "execution_count": 0,
      "outputs": [
        {
          "output_type": "stream",
          "text": [
            "Using TensorFlow backend.\n"
          ],
          "name": "stderr"
        },
        {
          "output_type": "display_data",
          "data": {
            "text/html": [
              "<p style=\"color: red;\">\n",
              "The default version of TensorFlow in Colab will soon switch to TensorFlow 2.x.<br>\n",
              "We recommend you <a href=\"https://www.tensorflow.org/guide/migrate\" target=\"_blank\">upgrade</a> now \n",
              "or ensure your notebook will continue to use TensorFlow 1.x via the <code>%tensorflow_version 1.x</code> magic:\n",
              "<a href=\"https://colab.research.google.com/notebooks/tensorflow_version.ipynb\" target=\"_blank\">more info</a>.</p>\n"
            ],
            "text/plain": [
              "<IPython.core.display.HTML object>"
            ]
          },
          "metadata": {
            "tags": []
          }
        },
        {
          "output_type": "stream",
          "text": [
            "Downloading data from http://fashion-mnist.s3-website.eu-central-1.amazonaws.com/train-labels-idx1-ubyte.gz\n",
            "32768/29515 [=================================] - 0s 0us/step\n",
            "Downloading data from http://fashion-mnist.s3-website.eu-central-1.amazonaws.com/train-images-idx3-ubyte.gz\n",
            "26427392/26421880 [==============================] - 0s 0us/step\n",
            "Downloading data from http://fashion-mnist.s3-website.eu-central-1.amazonaws.com/t10k-labels-idx1-ubyte.gz\n",
            "8192/5148 [===============================================] - 0s 0us/step\n",
            "Downloading data from http://fashion-mnist.s3-website.eu-central-1.amazonaws.com/t10k-images-idx3-ubyte.gz\n",
            "4423680/4422102 [==============================] - 0s 0us/step\n",
            "(60000, 784)\n"
          ],
          "name": "stdout"
        }
      ]
    },
    {
      "cell_type": "code",
      "metadata": {
        "id": "k24FFUHe1usG",
        "colab_type": "code",
        "outputId": "1533465d-b1a4-47c2-dfd4-3712547940ef",
        "colab": {
          "base_uri": "https://localhost:8080/",
          "height": 68
        }
      },
      "source": [
        "clusters.fit(x)"
      ],
      "execution_count": 0,
      "outputs": [
        {
          "output_type": "execute_result",
          "data": {
            "text/plain": [
              "KMeans(algorithm='auto', copy_x=True, init='k-means++', max_iter=300,\n",
              "       n_clusters=10, n_init=20, n_jobs=4, precompute_distances='auto',\n",
              "       random_state=None, tol=0.0001, verbose=0)"
            ]
          },
          "metadata": {
            "tags": []
          },
          "execution_count": 2
        }
      ]
    },
    {
      "cell_type": "code",
      "metadata": {
        "id": "Sb055J2L15v4",
        "colab_type": "code",
        "outputId": "bd2aad21-2692-4218-8f30-3c7086478a44",
        "colab": {
          "base_uri": "https://localhost:8080/",
          "height": 343
        }
      },
      "source": [
        "##########################################################KMeans prediction\n",
        "ypred_test = clusters.predict(xtest)\n",
        "ypred_train = clusters.predict(x)\n",
        "print(\"Part 1\")\n",
        "print(\"Testing Accuracy: \",metrics.adjusted_mutual_info_score(ytest,ypred_test))\n",
        "print(\"Training Accuracy: \",metrics.adjusted_mutual_info_score(y,ypred_train))\n",
        "print(\"Confusion Matrix: \")\n",
        "print(confusion_matrix(ytest,ypred_test))"
      ],
      "execution_count": 0,
      "outputs": [
        {
          "output_type": "stream",
          "text": [
            "Part 1\n",
            "Testing Accuracy:  0.500130986246911\n",
            "Training Accuracy:  0.5003052797174995\n",
            "Confusion Matrix: \n",
            "[[587   1   5  34 245   0   6   0  29  93]\n",
            " [ 50   0   0   9  29   0   0   0 890  22]\n",
            " [ 19   0   4 566 342   0   4   0   4  61]\n",
            " [277   0   3  10 113   0   2   0 503  92]\n",
            " [136   0   5 627 159   0   4   0  27  42]\n",
            " [  0 229   0   0   6  44   0  72   0 649]\n",
            " [189   0   0 311 358   0  15   0  12 115]\n",
            " [  0 791   0   0   0   2   0 145   0  62]\n",
            " [  3  42 408  62  36   1 351   7   6  84]\n",
            " [  0  26   2   0   4 408   0 531   0  29]]\n"
          ],
          "name": "stdout"
        },
        {
          "output_type": "stream",
          "text": [
            "/usr/local/lib/python3.6/dist-packages/sklearn/metrics/cluster/supervised.py:746: FutureWarning: The behavior of AMI will change in version 0.22. To match the behavior of 'v_measure_score', AMI will use average_method='arithmetic' by default.\n",
            "  FutureWarning)\n",
            "/usr/local/lib/python3.6/dist-packages/sklearn/metrics/cluster/supervised.py:746: FutureWarning: The behavior of AMI will change in version 0.22. To match the behavior of 'v_measure_score', AMI will use average_method='arithmetic' by default.\n",
            "  FutureWarning)\n"
          ],
          "name": "stderr"
        }
      ]
    },
    {
      "cell_type": "code",
      "metadata": {
        "id": "btP9g-LSYyMP",
        "colab_type": "code",
        "outputId": "ddc996f2-4140-4a6f-a9f6-a4ecce52dea1",
        "colab": {
          "base_uri": "https://localhost:8080/",
          "height": 139
        }
      },
      "source": [
        "indim = x.shape[1]\n",
        "endim = 32\n",
        "autoencoder = Sequential()\n",
        "########################################################## Encoder Layers\n",
        "autoencoder.add(Dense(4 * endim, input_shape=(indim,), activation='relu'))\n",
        "autoencoder.add(Dense(2 * endim, activation='relu'))\n",
        "autoencoder.add(Dense(endim, activation='relu'))\n",
        "########################################################### Decoder Layers\n",
        "autoencoder.add(Dense(2 * endim, activation='relu'))\n",
        "autoencoder.add(Dense(4 * endim, activation='relu'))\n",
        "autoencoder.add(Dense(indim, activation='sigmoid'))"
      ],
      "execution_count": 0,
      "outputs": [
        {
          "output_type": "stream",
          "text": [
            "WARNING:tensorflow:From /usr/local/lib/python3.6/dist-packages/keras/backend/tensorflow_backend.py:66: The name tf.get_default_graph is deprecated. Please use tf.compat.v1.get_default_graph instead.\n",
            "\n",
            "WARNING:tensorflow:From /usr/local/lib/python3.6/dist-packages/keras/backend/tensorflow_backend.py:541: The name tf.placeholder is deprecated. Please use tf.compat.v1.placeholder instead.\n",
            "\n",
            "WARNING:tensorflow:From /usr/local/lib/python3.6/dist-packages/keras/backend/tensorflow_backend.py:4432: The name tf.random_uniform is deprecated. Please use tf.random.uniform instead.\n",
            "\n"
          ],
          "name": "stdout"
        }
      ]
    },
    {
      "cell_type": "code",
      "metadata": {
        "id": "FxSL4xd7CGWQ",
        "colab_type": "code",
        "colab": {}
      },
      "source": [
        "input_img = Input(shape=(indim,))\n",
        "##########################################################Encoder Layers Extracted\n",
        "elayer1 = autoencoder.layers[0]\n",
        "elayer2 = autoencoder.layers[1]\n",
        "elayer3 = autoencoder.layers[2]\n",
        "##########################################################Encoder Model Generated\n",
        "encoder = Model(input_img, elayer3(elayer2(elayer1(input_img))))"
      ],
      "execution_count": 0,
      "outputs": []
    },
    {
      "cell_type": "code",
      "metadata": {
        "id": "w58o23QXCuRk",
        "colab_type": "code",
        "outputId": "7ce3356f-d7c8-4235-f964-df8cd2973642",
        "colab": {
          "base_uri": "https://localhost:8080/",
          "height": 1000
        }
      },
      "source": [
        "##########################################################Autoencoder compiled\n",
        "autoencoder.compile(optimizer='adam', loss='binary_crossentropy')\n",
        "auto_train = autoencoder.fit(x, x,\n",
        "                epochs=50,\n",
        "                batch_size=256,\n",
        "                validation_data = (xtest,xtest)\n",
        "                )"
      ],
      "execution_count": 0,
      "outputs": [
        {
          "output_type": "stream",
          "text": [
            "WARNING:tensorflow:From /usr/local/lib/python3.6/dist-packages/keras/optimizers.py:793: The name tf.train.Optimizer is deprecated. Please use tf.compat.v1.train.Optimizer instead.\n",
            "\n",
            "WARNING:tensorflow:From /usr/local/lib/python3.6/dist-packages/keras/backend/tensorflow_backend.py:3657: The name tf.log is deprecated. Please use tf.math.log instead.\n",
            "\n",
            "WARNING:tensorflow:From /usr/local/lib/python3.6/dist-packages/tensorflow_core/python/ops/nn_impl.py:183: where (from tensorflow.python.ops.array_ops) is deprecated and will be removed in a future version.\n",
            "Instructions for updating:\n",
            "Use tf.where in 2.0, which has the same broadcast rule as np.where\n",
            "WARNING:tensorflow:From /usr/local/lib/python3.6/dist-packages/keras/backend/tensorflow_backend.py:1033: The name tf.assign_add is deprecated. Please use tf.compat.v1.assign_add instead.\n",
            "\n",
            "WARNING:tensorflow:From /usr/local/lib/python3.6/dist-packages/keras/backend/tensorflow_backend.py:1020: The name tf.assign is deprecated. Please use tf.compat.v1.assign instead.\n",
            "\n",
            "WARNING:tensorflow:From /usr/local/lib/python3.6/dist-packages/keras/backend/tensorflow_backend.py:3005: The name tf.Session is deprecated. Please use tf.compat.v1.Session instead.\n",
            "\n",
            "Train on 60000 samples, validate on 10000 samples\n",
            "Epoch 1/50\n",
            "WARNING:tensorflow:From /usr/local/lib/python3.6/dist-packages/keras/backend/tensorflow_backend.py:190: The name tf.get_default_session is deprecated. Please use tf.compat.v1.get_default_session instead.\n",
            "\n",
            "WARNING:tensorflow:From /usr/local/lib/python3.6/dist-packages/keras/backend/tensorflow_backend.py:197: The name tf.ConfigProto is deprecated. Please use tf.compat.v1.ConfigProto instead.\n",
            "\n",
            "WARNING:tensorflow:From /usr/local/lib/python3.6/dist-packages/keras/backend/tensorflow_backend.py:207: The name tf.global_variables is deprecated. Please use tf.compat.v1.global_variables instead.\n",
            "\n",
            "WARNING:tensorflow:From /usr/local/lib/python3.6/dist-packages/keras/backend/tensorflow_backend.py:216: The name tf.is_variable_initialized is deprecated. Please use tf.compat.v1.is_variable_initialized instead.\n",
            "\n",
            "WARNING:tensorflow:From /usr/local/lib/python3.6/dist-packages/keras/backend/tensorflow_backend.py:223: The name tf.variables_initializer is deprecated. Please use tf.compat.v1.variables_initializer instead.\n",
            "\n",
            "60000/60000 [==============================] - 7s 111us/step - loss: 0.3746 - val_loss: 0.3181\n",
            "Epoch 2/50\n",
            "60000/60000 [==============================] - 2s 32us/step - loss: 0.3099 - val_loss: 0.3067\n",
            "Epoch 3/50\n",
            "60000/60000 [==============================] - 2s 32us/step - loss: 0.3014 - val_loss: 0.3004\n",
            "Epoch 4/50\n",
            "60000/60000 [==============================] - 2s 31us/step - loss: 0.2965 - val_loss: 0.2967\n",
            "Epoch 5/50\n",
            "60000/60000 [==============================] - 2s 32us/step - loss: 0.2936 - val_loss: 0.2952\n",
            "Epoch 6/50\n",
            "60000/60000 [==============================] - 2s 31us/step - loss: 0.2912 - val_loss: 0.2921\n",
            "Epoch 7/50\n",
            "60000/60000 [==============================] - 2s 31us/step - loss: 0.2892 - val_loss: 0.2907\n",
            "Epoch 8/50\n",
            "60000/60000 [==============================] - 2s 31us/step - loss: 0.2875 - val_loss: 0.2891\n",
            "Epoch 9/50\n",
            "60000/60000 [==============================] - 2s 32us/step - loss: 0.2861 - val_loss: 0.2878\n",
            "Epoch 10/50\n",
            "60000/60000 [==============================] - 2s 32us/step - loss: 0.2848 - val_loss: 0.2863\n",
            "Epoch 11/50\n",
            "60000/60000 [==============================] - 2s 32us/step - loss: 0.2838 - val_loss: 0.2854\n",
            "Epoch 12/50\n",
            "60000/60000 [==============================] - 2s 31us/step - loss: 0.2828 - val_loss: 0.2846\n",
            "Epoch 13/50\n",
            "60000/60000 [==============================] - 2s 31us/step - loss: 0.2821 - val_loss: 0.2840\n",
            "Epoch 14/50\n",
            "60000/60000 [==============================] - 2s 33us/step - loss: 0.2813 - val_loss: 0.2831\n",
            "Epoch 15/50\n",
            "60000/60000 [==============================] - 2s 31us/step - loss: 0.2807 - val_loss: 0.2828\n",
            "Epoch 16/50\n",
            "60000/60000 [==============================] - 2s 31us/step - loss: 0.2802 - val_loss: 0.2821\n",
            "Epoch 17/50\n",
            "60000/60000 [==============================] - 2s 31us/step - loss: 0.2797 - val_loss: 0.2818\n",
            "Epoch 18/50\n",
            "60000/60000 [==============================] - 2s 32us/step - loss: 0.2792 - val_loss: 0.2815\n",
            "Epoch 19/50\n",
            "60000/60000 [==============================] - 2s 32us/step - loss: 0.2788 - val_loss: 0.2808\n",
            "Epoch 20/50\n",
            "60000/60000 [==============================] - 2s 32us/step - loss: 0.2785 - val_loss: 0.2807\n",
            "Epoch 21/50\n",
            "60000/60000 [==============================] - 2s 32us/step - loss: 0.2780 - val_loss: 0.2804\n",
            "Epoch 22/50\n",
            "60000/60000 [==============================] - 2s 32us/step - loss: 0.2777 - val_loss: 0.2799\n",
            "Epoch 23/50\n",
            "60000/60000 [==============================] - 2s 32us/step - loss: 0.2774 - val_loss: 0.2798\n",
            "Epoch 24/50\n",
            "60000/60000 [==============================] - 2s 33us/step - loss: 0.2771 - val_loss: 0.2799\n",
            "Epoch 25/50\n",
            "60000/60000 [==============================] - 2s 32us/step - loss: 0.2768 - val_loss: 0.2791\n",
            "Epoch 26/50\n",
            "60000/60000 [==============================] - 2s 32us/step - loss: 0.2766 - val_loss: 0.2787\n",
            "Epoch 27/50\n",
            "60000/60000 [==============================] - 2s 31us/step - loss: 0.2764 - val_loss: 0.2787\n",
            "Epoch 28/50\n",
            "60000/60000 [==============================] - 2s 31us/step - loss: 0.2761 - val_loss: 0.2784\n",
            "Epoch 29/50\n",
            "60000/60000 [==============================] - 2s 32us/step - loss: 0.2760 - val_loss: 0.2786\n",
            "Epoch 30/50\n",
            "60000/60000 [==============================] - 2s 34us/step - loss: 0.2757 - val_loss: 0.2780\n",
            "Epoch 31/50\n",
            "60000/60000 [==============================] - 2s 32us/step - loss: 0.2755 - val_loss: 0.2778\n",
            "Epoch 32/50\n",
            "60000/60000 [==============================] - 2s 33us/step - loss: 0.2754 - val_loss: 0.2777\n",
            "Epoch 33/50\n",
            "60000/60000 [==============================] - 2s 32us/step - loss: 0.2751 - val_loss: 0.2776\n",
            "Epoch 34/50\n",
            "60000/60000 [==============================] - 2s 33us/step - loss: 0.2750 - val_loss: 0.2775\n",
            "Epoch 35/50\n",
            "60000/60000 [==============================] - 2s 31us/step - loss: 0.2749 - val_loss: 0.2771\n",
            "Epoch 36/50\n",
            "60000/60000 [==============================] - 2s 32us/step - loss: 0.2747 - val_loss: 0.2772\n",
            "Epoch 37/50\n",
            "60000/60000 [==============================] - 2s 31us/step - loss: 0.2746 - val_loss: 0.2775\n",
            "Epoch 38/50\n",
            "60000/60000 [==============================] - 2s 32us/step - loss: 0.2744 - val_loss: 0.2767\n",
            "Epoch 39/50\n",
            "60000/60000 [==============================] - 2s 31us/step - loss: 0.2742 - val_loss: 0.2766\n",
            "Epoch 40/50\n",
            "60000/60000 [==============================] - 2s 32us/step - loss: 0.2741 - val_loss: 0.2767\n",
            "Epoch 41/50\n",
            "60000/60000 [==============================] - 2s 31us/step - loss: 0.2740 - val_loss: 0.2763\n",
            "Epoch 42/50\n",
            "60000/60000 [==============================] - 2s 32us/step - loss: 0.2740 - val_loss: 0.2763\n",
            "Epoch 43/50\n",
            "60000/60000 [==============================] - 2s 33us/step - loss: 0.2737 - val_loss: 0.2762\n",
            "Epoch 44/50\n",
            "60000/60000 [==============================] - 2s 32us/step - loss: 0.2736 - val_loss: 0.2761\n",
            "Epoch 45/50\n",
            "60000/60000 [==============================] - 2s 32us/step - loss: 0.2735 - val_loss: 0.2761\n",
            "Epoch 46/50\n",
            "60000/60000 [==============================] - 2s 32us/step - loss: 0.2735 - val_loss: 0.2758\n",
            "Epoch 47/50\n",
            "60000/60000 [==============================] - 2s 31us/step - loss: 0.2733 - val_loss: 0.2759\n",
            "Epoch 48/50\n",
            "60000/60000 [==============================] - 2s 32us/step - loss: 0.2732 - val_loss: 0.2756\n",
            "Epoch 49/50\n",
            "60000/60000 [==============================] - 2s 31us/step - loss: 0.2731 - val_loss: 0.2758\n",
            "Epoch 50/50\n",
            "60000/60000 [==============================] - 2s 31us/step - loss: 0.2731 - val_loss: 0.2755\n"
          ],
          "name": "stdout"
        }
      ]
    },
    {
      "cell_type": "code",
      "metadata": {
        "id": "33f-KPCXuksn",
        "colab_type": "code",
        "outputId": "cf8487f7-589f-4561-b3ce-22a31756f86f",
        "colab": {
          "base_uri": "https://localhost:8080/",
          "height": 573
        }
      },
      "source": [
        "##########################################################Graph Plot Loss\n",
        "plt.plot(auto_train.history['loss'], 'red')\n",
        "plt.title('Model Loss')\n",
        "plt.ylabel('loss')\n",
        "plt.xlabel('epochs')\n",
        "plt.legend(['Training'])\n",
        "plt.show()\n",
        "##########################################################Graph Plot Val_Loss\n",
        "plt.plot(auto_train.history['val_loss'],'blue')\n",
        "plt.title('Model Val_Loss')\n",
        "plt.ylabel('val_loss')\n",
        "plt.xlabel('epochs')\n",
        "plt.legend(['Validation'])\n",
        "plt.show()"
      ],
      "execution_count": 0,
      "outputs": [
        {
          "output_type": "display_data",
          "data": {
            "image/png": "[encoded data removed]",
            "text/plain": [
              "<Figure size 432x288 with 1 Axes>"
            ]
          },
          "metadata": {
            "tags": []
          }
        },
        {
          "output_type": "display_data",
          "data": {
            "image/png": "[encoded data removed]",
            "text/plain": [
              "<Figure size 432x288 with 1 Axes>"
            ]
          },
          "metadata": {
            "tags": []
          }
        }
      ]
    },
    {
      "cell_type": "code",
      "metadata": {
        "id": "X-JWBZWUDH-2",
        "colab_type": "code",
        "colab": {}
      },
      "source": [
        "##########################################Encoder Predictions to get Encoded Images\n",
        "enimgs_test = encoder.predict(xtest)\n",
        "enimgs_train = encoder.predict(x)"
      ],
      "execution_count": 0,
      "outputs": []
    },
    {
      "cell_type": "code",
      "metadata": {
        "id": "Hekv0iPWkuV5",
        "colab_type": "code",
        "outputId": "a77c8d47-0bab-4391-a0cc-84bb7289f75e",
        "colab": {
          "base_uri": "https://localhost:8080/",
          "height": 343
        }
      },
      "source": [
        "##########################################################KMeans on encoded images\n",
        "clusters1 = KMeans(n_clusters = 10)\n",
        "ypred_test1 = clusters1.fit_predict(enimgs_test)\n",
        "ypred_train1 = clusters1.fit_predict(enimgs_train)\n",
        "print(\"Part2\")\n",
        "print(\"Testing Accuracy For Part2 \",metrics.adjusted_mutual_info_score(ytest,ypred_test1))\n",
        "print(\"Training Accuracy For Part2 \",metrics.adjusted_mutual_info_score(y,ypred_train1))\n",
        "print(\"Confusion Matrix: \")\n",
        "print(confusion_matrix(ytest,ypred_test1))\n"
      ],
      "execution_count": 0,
      "outputs": [
        {
          "output_type": "stream",
          "text": [
            "Part2\n",
            "Testing Accuracy For Part2  0.43400321911186696\n",
            "Training Accuracy For Part2  0.44161895842221616\n",
            "Confusion Matrix: \n",
            "[[  1  30   0   1  63 275   0 607   0  23]\n",
            " [  0   6   0 581 324  45   0  40   0   4]\n",
            " [  0 369   0   0   5 309   0  13   0 304]\n",
            " [  0  20   0 115 531 137   0 135   0  62]\n",
            " [  0 303   0   0  69 123   0  16   0 489]\n",
            " [127   3 230   0   0 165 307   0 168   0]\n",
            " [  0 209   0   2  38 337   0 190   0 224]\n",
            " [297   0 301   0   0  16 382   0   4   0]\n",
            " [  2 481 173   0   6 225  22  42   0  49]\n",
            " [  1   1 466   0   0  32  18   0 482   0]]\n"
          ],
          "name": "stdout"
        },
        {
          "output_type": "stream",
          "text": [
            "/usr/local/lib/python3.6/dist-packages/sklearn/metrics/cluster/supervised.py:746: FutureWarning: The behavior of AMI will change in version 0.22. To match the behavior of 'v_measure_score', AMI will use average_method='arithmetic' by default.\n",
            "  FutureWarning)\n",
            "/usr/local/lib/python3.6/dist-packages/sklearn/metrics/cluster/supervised.py:746: FutureWarning: The behavior of AMI will change in version 0.22. To match the behavior of 'v_measure_score', AMI will use average_method='arithmetic' by default.\n",
            "  FutureWarning)\n"
          ],
          "name": "stderr"
        }
      ]
    },
    {
      "cell_type": "code",
      "metadata": {
        "id": "vZ6Jy2roZ-ZM",
        "colab_type": "code",
        "outputId": "b3aa35db-df47-48ac-d51e-ae220d1182a7",
        "colab": {
          "base_uri": "https://localhost:8080/",
          "height": 343
        }
      },
      "source": [
        "##########################################################GMM on encoded images\n",
        "cluster3 = GaussianMixture(n_components=10)\n",
        "cluster_test3 = cluster3.fit(enimgs_test)\n",
        "cluster_train3 = cluster3.fit(enimgs_train)\n",
        "ypred_test3 = cluster_test3.predict(enimgs_test)\n",
        "ypred_train3 = cluster_train3.predict(enimgs_train)\n",
        "print(\"Part 3\")\n",
        "print(\"Testing Accuracy for Part3 \",metrics.adjusted_mutual_info_score(ytest,ypred_test3))\n",
        "print(\"Training Accuracy for Part3 \",metrics.adjusted_mutual_info_score(y,ypred_train3))\n",
        "print(\"Confusion Matrix: \")\n",
        "print(confusion_matrix(ytest,ypred_test3))"
      ],
      "execution_count": 0,
      "outputs": [
        {
          "output_type": "stream",
          "text": [
            "Part 3\n",
            "Testing Accuracy for Part3  0.538970186562524\n",
            "Training Accuracy for Part3  0.5399667497890507\n",
            "Confusion Matrix: \n",
            "[[  1   7   8   0   0   0  91 776 115   2]\n",
            " [  0  32   2   0   0 817   3 123  23   0]\n",
            " [  0   2 691   0   0   0  94  59 154   0]\n",
            " [  0 316   8   0   0   0  11 590  75   0]\n",
            " [  0  21 608   0   0   0  45 150 175   1]\n",
            " [359   0   0 359  39   0   0   0  20 223]\n",
            " [  2   8 394   0   0   0 136 322 137   1]\n",
            " [  4   0   0 619  49   0   0   0   3 325]\n",
            " [  3  22   4   0   0   0   5  30 901  35]\n",
            " [ 95   0   0   2 766   0   0   0   4 133]]\n"
          ],
          "name": "stdout"
        },
        {
          "output_type": "stream",
          "text": [
            "/usr/local/lib/python3.6/dist-packages/sklearn/metrics/cluster/supervised.py:746: FutureWarning: The behavior of AMI will change in version 0.22. To match the behavior of 'v_measure_score', AMI will use average_method='arithmetic' by default.\n",
            "  FutureWarning)\n",
            "/usr/local/lib/python3.6/dist-packages/sklearn/metrics/cluster/supervised.py:746: FutureWarning: The behavior of AMI will change in version 0.22. To match the behavior of 'v_measure_score', AMI will use average_method='arithmetic' by default.\n",
            "  FutureWarning)\n"
          ],
          "name": "stderr"
        }
      ]
    }
  ]
}